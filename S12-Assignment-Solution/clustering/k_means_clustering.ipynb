{
  "nbformat": 4,
  "nbformat_minor": 0,
  "metadata": {
    "colab": {
      "name": "k-means-clustering.ipynb",
      "provenance": [],
      "collapsed_sections": []
    },
    "kernelspec": {
      "name": "python3",
      "display_name": "Python 3"
    }
  },
  "cells": [
    {
      "cell_type": "code",
      "metadata": {
        "id": "n5dqbJHYKjBR"
      },
      "source": [
        "import pandas as pd\r\n",
        "import numpy as np\r\n",
        "import json"
      ],
      "execution_count": 1,
      "outputs": []
    },
    {
      "cell_type": "markdown",
      "metadata": {
        "id": "_BtZLcxUzWvI"
      },
      "source": [
        "## Clean-up annotations data"
      ]
    },
    {
      "cell_type": "code",
      "metadata": {
        "id": "FQiYTFPSK16a"
      },
      "source": [
        "from pre_processing_data import normalise_annotations_dataframe"
      ],
      "execution_count": 2,
      "outputs": []
    },
    {
      "cell_type": "code",
      "metadata": {
        "colab": {
          "base_uri": "https://localhost:8080/",
          "height": 224
        },
        "id": "lbtJZEixV0p1",
        "outputId": "3b9fdd6a-06eb-4e65-8cfa-f3ec76cdc0df"
      },
      "source": [
        "df = pd.read_csv(\"/content/eva-hardhat-dataset_csv.csv\")\r\n",
        "df.head()"
      ],
      "execution_count": 3,
      "outputs": [
        {
          "output_type": "execute_result",
          "data": {
            "text/html": [
              "<div>\n",
              "<style scoped>\n",
              "    .dataframe tbody tr th:only-of-type {\n",
              "        vertical-align: middle;\n",
              "    }\n",
              "\n",
              "    .dataframe tbody tr th {\n",
              "        vertical-align: top;\n",
              "    }\n",
              "\n",
              "    .dataframe thead th {\n",
              "        text-align: right;\n",
              "    }\n",
              "</style>\n",
              "<table border=\"1\" class=\"dataframe\">\n",
              "  <thead>\n",
              "    <tr style=\"text-align: right;\">\n",
              "      <th></th>\n",
              "      <th>filename</th>\n",
              "      <th>file_size</th>\n",
              "      <th>file_attributes</th>\n",
              "      <th>region_count</th>\n",
              "      <th>region_id</th>\n",
              "      <th>region_shape_attributes</th>\n",
              "      <th>region_attributes</th>\n",
              "    </tr>\n",
              "  </thead>\n",
              "  <tbody>\n",
              "    <tr>\n",
              "      <th>0</th>\n",
              "      <td>eva_1.jpg</td>\n",
              "      <td>20449</td>\n",
              "      <td>{\"caption\":\"\",\"public_domain\":\"no\",\"image_url\"...</td>\n",
              "      <td>3</td>\n",
              "      <td>0</td>\n",
              "      <td>{\"name\":\"rect\",\"x\":248,\"y\":4,\"width\":131,\"heig...</td>\n",
              "      <td>{\"name\":\"hardhat\",\"type\":\"unknown\",\"image_qual...</td>\n",
              "    </tr>\n",
              "    <tr>\n",
              "      <th>1</th>\n",
              "      <td>eva_1.jpg</td>\n",
              "      <td>20449</td>\n",
              "      <td>{\"caption\":\"\",\"public_domain\":\"no\",\"image_url\"...</td>\n",
              "      <td>3</td>\n",
              "      <td>1</td>\n",
              "      <td>{\"name\":\"rect\",\"x\":275,\"y\":91,\"width\":92,\"heig...</td>\n",
              "      <td>{\"name\":\"mask\",\"type\":\"unknown\",\"image_quality...</td>\n",
              "    </tr>\n",
              "    <tr>\n",
              "      <th>2</th>\n",
              "      <td>eva_1.jpg</td>\n",
              "      <td>20449</td>\n",
              "      <td>{\"caption\":\"\",\"public_domain\":\"no\",\"image_url\"...</td>\n",
              "      <td>3</td>\n",
              "      <td>2</td>\n",
              "      <td>{\"name\":\"rect\",\"x\":191,\"y\":167,\"width\":234,\"he...</td>\n",
              "      <td>{\"name\":\"vest\",\"type\":\"unknown\",\"image_quality...</td>\n",
              "    </tr>\n",
              "    <tr>\n",
              "      <th>3</th>\n",
              "      <td>eva_2.jpg</td>\n",
              "      <td>187125</td>\n",
              "      <td>{\"caption\":\"\",\"public_domain\":\"no\",\"image_url\"...</td>\n",
              "      <td>5</td>\n",
              "      <td>0</td>\n",
              "      <td>{\"name\":\"rect\",\"x\":242,\"y\":98,\"width\":115,\"hei...</td>\n",
              "      <td>{\"name\":\"hardhat\",\"type\":\"unknown\",\"image_qual...</td>\n",
              "    </tr>\n",
              "    <tr>\n",
              "      <th>4</th>\n",
              "      <td>eva_2.jpg</td>\n",
              "      <td>187125</td>\n",
              "      <td>{\"caption\":\"\",\"public_domain\":\"no\",\"image_url\"...</td>\n",
              "      <td>5</td>\n",
              "      <td>1</td>\n",
              "      <td>{\"name\":\"rect\",\"x\":437,\"y\":64,\"width\":120,\"hei...</td>\n",
              "      <td>{\"name\":\"hardhat\",\"type\":\"unknown\",\"image_qual...</td>\n",
              "    </tr>\n",
              "  </tbody>\n",
              "</table>\n",
              "</div>"
            ],
            "text/plain": [
              "    filename  ...                                  region_attributes\n",
              "0  eva_1.jpg  ...  {\"name\":\"hardhat\",\"type\":\"unknown\",\"image_qual...\n",
              "1  eva_1.jpg  ...  {\"name\":\"mask\",\"type\":\"unknown\",\"image_quality...\n",
              "2  eva_1.jpg  ...  {\"name\":\"vest\",\"type\":\"unknown\",\"image_quality...\n",
              "3  eva_2.jpg  ...  {\"name\":\"hardhat\",\"type\":\"unknown\",\"image_qual...\n",
              "4  eva_2.jpg  ...  {\"name\":\"hardhat\",\"type\":\"unknown\",\"image_qual...\n",
              "\n",
              "[5 rows x 7 columns]"
            ]
          },
          "metadata": {
            "tags": []
          },
          "execution_count": 3
        }
      ]
    },
    {
      "cell_type": "code",
      "metadata": {
        "id": "7F2jGRJ5czlL"
      },
      "source": [
        "bbox_df = normalise_annotations_dataframe(df)"
      ],
      "execution_count": 4,
      "outputs": []
    },
    {
      "cell_type": "code",
      "metadata": {
        "colab": {
          "base_uri": "https://localhost:8080/",
          "height": 204
        },
        "id": "yqUf1dUndg-E",
        "outputId": "40cbbc1f-1e38-4538-d351-2e0a238d6183"
      },
      "source": [
        "bbox_df.head()"
      ],
      "execution_count": 5,
      "outputs": [
        {
          "output_type": "execute_result",
          "data": {
            "text/html": [
              "<div>\n",
              "<style scoped>\n",
              "    .dataframe tbody tr th:only-of-type {\n",
              "        vertical-align: middle;\n",
              "    }\n",
              "\n",
              "    .dataframe tbody tr th {\n",
              "        vertical-align: top;\n",
              "    }\n",
              "\n",
              "    .dataframe thead th {\n",
              "        text-align: right;\n",
              "    }\n",
              "</style>\n",
              "<table border=\"1\" class=\"dataframe\">\n",
              "  <thead>\n",
              "    <tr style=\"text-align: right;\">\n",
              "      <th></th>\n",
              "      <th>CX</th>\n",
              "      <th>CY</th>\n",
              "      <th>H</th>\n",
              "      <th>W</th>\n",
              "      <th>class_label</th>\n",
              "      <th>filename</th>\n",
              "    </tr>\n",
              "  </thead>\n",
              "  <tbody>\n",
              "    <tr>\n",
              "      <th>0</th>\n",
              "      <td>248.0</td>\n",
              "      <td>4.0</td>\n",
              "      <td>85.0</td>\n",
              "      <td>131.0</td>\n",
              "      <td>hardhat</td>\n",
              "      <td>eva_1.jpg</td>\n",
              "    </tr>\n",
              "    <tr>\n",
              "      <th>1</th>\n",
              "      <td>275.0</td>\n",
              "      <td>91.0</td>\n",
              "      <td>58.0</td>\n",
              "      <td>92.0</td>\n",
              "      <td>mask</td>\n",
              "      <td>eva_1.jpg</td>\n",
              "    </tr>\n",
              "    <tr>\n",
              "      <th>2</th>\n",
              "      <td>191.0</td>\n",
              "      <td>167.0</td>\n",
              "      <td>131.0</td>\n",
              "      <td>234.0</td>\n",
              "      <td>vest</td>\n",
              "      <td>eva_1.jpg</td>\n",
              "    </tr>\n",
              "    <tr>\n",
              "      <th>3</th>\n",
              "      <td>242.0</td>\n",
              "      <td>98.0</td>\n",
              "      <td>82.0</td>\n",
              "      <td>115.0</td>\n",
              "      <td>hardhat</td>\n",
              "      <td>eva_2.jpg</td>\n",
              "    </tr>\n",
              "    <tr>\n",
              "      <th>4</th>\n",
              "      <td>437.0</td>\n",
              "      <td>64.0</td>\n",
              "      <td>79.0</td>\n",
              "      <td>120.0</td>\n",
              "      <td>hardhat</td>\n",
              "      <td>eva_2.jpg</td>\n",
              "    </tr>\n",
              "  </tbody>\n",
              "</table>\n",
              "</div>"
            ],
            "text/plain": [
              "      CX     CY      H      W class_label   filename\n",
              "0  248.0    4.0   85.0  131.0     hardhat  eva_1.jpg\n",
              "1  275.0   91.0   58.0   92.0        mask  eva_1.jpg\n",
              "2  191.0  167.0  131.0  234.0        vest  eva_1.jpg\n",
              "3  242.0   98.0   82.0  115.0     hardhat  eva_2.jpg\n",
              "4  437.0   64.0   79.0  120.0     hardhat  eva_2.jpg"
            ]
          },
          "metadata": {
            "tags": []
          },
          "execution_count": 5
        }
      ]
    },
    {
      "cell_type": "code",
      "metadata": {
        "id": "Xn2EvG3IdjmP"
      },
      "source": [
        "bbox_df.to_csv(\"bbox_data.csv\",index=False)"
      ],
      "execution_count": 6,
      "outputs": []
    },
    {
      "cell_type": "markdown",
      "metadata": {
        "id": "l5G4iY5zzd1V"
      },
      "source": [
        "# Get image size information"
      ]
    },
    {
      "cell_type": "code",
      "metadata": {
        "id": "fQefRu_QenLP"
      },
      "source": [
        "from pre_processing_data import get_image_size_info\r\n",
        "\r\n",
        "images_path = r\"/content/images\"\r\n",
        "images_df = get_image_size_info(images_path)"
      ],
      "execution_count": 7,
      "outputs": []
    },
    {
      "cell_type": "code",
      "metadata": {
        "colab": {
          "base_uri": "https://localhost:8080/",
          "height": 204
        },
        "id": "bm9adtStZWaO",
        "outputId": "cc45483d-2a09-4539-d3ed-9e44a7c0fc6b"
      },
      "source": [
        "images_df.head()"
      ],
      "execution_count": 8,
      "outputs": [
        {
          "output_type": "execute_result",
          "data": {
            "text/html": [
              "<div>\n",
              "<style scoped>\n",
              "    .dataframe tbody tr th:only-of-type {\n",
              "        vertical-align: middle;\n",
              "    }\n",
              "\n",
              "    .dataframe tbody tr th {\n",
              "        vertical-align: top;\n",
              "    }\n",
              "\n",
              "    .dataframe thead th {\n",
              "        text-align: right;\n",
              "    }\n",
              "</style>\n",
              "<table border=\"1\" class=\"dataframe\">\n",
              "  <thead>\n",
              "    <tr style=\"text-align: right;\">\n",
              "      <th></th>\n",
              "      <th>image_file_name</th>\n",
              "      <th>img_h</th>\n",
              "      <th>img_w</th>\n",
              "    </tr>\n",
              "  </thead>\n",
              "  <tbody>\n",
              "    <tr>\n",
              "      <th>0</th>\n",
              "      <td>eva_16.jpg</td>\n",
              "      <td>333</td>\n",
              "      <td>500</td>\n",
              "    </tr>\n",
              "    <tr>\n",
              "      <th>1</th>\n",
              "      <td>eva_84.jpg</td>\n",
              "      <td>400</td>\n",
              "      <td>900</td>\n",
              "    </tr>\n",
              "    <tr>\n",
              "      <th>2</th>\n",
              "      <td>eva_44.jpg</td>\n",
              "      <td>292</td>\n",
              "      <td>560</td>\n",
              "    </tr>\n",
              "    <tr>\n",
              "      <th>3</th>\n",
              "      <td>eva_113.jpg</td>\n",
              "      <td>575</td>\n",
              "      <td>870</td>\n",
              "    </tr>\n",
              "    <tr>\n",
              "      <th>4</th>\n",
              "      <td>eva_62.jpg</td>\n",
              "      <td>375</td>\n",
              "      <td>500</td>\n",
              "    </tr>\n",
              "  </tbody>\n",
              "</table>\n",
              "</div>"
            ],
            "text/plain": [
              "  image_file_name  img_h  img_w\n",
              "0      eva_16.jpg    333    500\n",
              "1      eva_84.jpg    400    900\n",
              "2      eva_44.jpg    292    560\n",
              "3     eva_113.jpg    575    870\n",
              "4      eva_62.jpg    375    500"
            ]
          },
          "metadata": {
            "tags": []
          },
          "execution_count": 8
        }
      ]
    },
    {
      "cell_type": "code",
      "metadata": {
        "id": "yWmC8IoibhID"
      },
      "source": [
        "images_df.to_csv(\"image_shape_data.csv\",index=False)"
      ],
      "execution_count": 9,
      "outputs": []
    },
    {
      "cell_type": "markdown",
      "metadata": {
        "id": "J2YtvLdYz5Kc"
      },
      "source": [
        "# Clustering"
      ]
    },
    {
      "cell_type": "code",
      "metadata": {
        "id": "6XGd4j8_esJC"
      },
      "source": [
        "img_df = pd.read_csv(\"image_shape_data.csv\")\r\n",
        "bbox_data_df = pd.read_csv(\"bbox_data.csv\")\r\n",
        "bbox_data_df.rename(columns = {\"filename\":\"image_file_name\"},inplace=True)"
      ],
      "execution_count": 10,
      "outputs": []
    },
    {
      "cell_type": "code",
      "metadata": {
        "id": "BmSDsHfgfgT6"
      },
      "source": [
        "bbox_with_img_data_df = pd.merge(\r\n",
        "    left = img_df,\r\n",
        "    right = bbox_data_df,\r\n",
        "    on = \"image_file_name\"\r\n",
        ")"
      ],
      "execution_count": 11,
      "outputs": []
    },
    {
      "cell_type": "code",
      "metadata": {
        "colab": {
          "base_uri": "https://localhost:8080/",
          "height": 204
        },
        "id": "ZtNpojk-glYo",
        "outputId": "8a074212-27ce-4550-d348-6d38f2ae87b5"
      },
      "source": [
        "bbox_with_img_data_df.head()"
      ],
      "execution_count": 12,
      "outputs": [
        {
          "output_type": "execute_result",
          "data": {
            "text/html": [
              "<div>\n",
              "<style scoped>\n",
              "    .dataframe tbody tr th:only-of-type {\n",
              "        vertical-align: middle;\n",
              "    }\n",
              "\n",
              "    .dataframe tbody tr th {\n",
              "        vertical-align: top;\n",
              "    }\n",
              "\n",
              "    .dataframe thead th {\n",
              "        text-align: right;\n",
              "    }\n",
              "</style>\n",
              "<table border=\"1\" class=\"dataframe\">\n",
              "  <thead>\n",
              "    <tr style=\"text-align: right;\">\n",
              "      <th></th>\n",
              "      <th>image_file_name</th>\n",
              "      <th>img_h</th>\n",
              "      <th>img_w</th>\n",
              "      <th>CX</th>\n",
              "      <th>CY</th>\n",
              "      <th>H</th>\n",
              "      <th>W</th>\n",
              "      <th>class_label</th>\n",
              "    </tr>\n",
              "  </thead>\n",
              "  <tbody>\n",
              "    <tr>\n",
              "      <th>0</th>\n",
              "      <td>eva_16.jpg</td>\n",
              "      <td>333</td>\n",
              "      <td>500</td>\n",
              "      <td>74.0</td>\n",
              "      <td>99.0</td>\n",
              "      <td>21.0</td>\n",
              "      <td>41.0</td>\n",
              "      <td>hardhat</td>\n",
              "    </tr>\n",
              "    <tr>\n",
              "      <th>1</th>\n",
              "      <td>eva_16.jpg</td>\n",
              "      <td>333</td>\n",
              "      <td>500</td>\n",
              "      <td>130.0</td>\n",
              "      <td>98.0</td>\n",
              "      <td>20.0</td>\n",
              "      <td>33.0</td>\n",
              "      <td>hardhat</td>\n",
              "    </tr>\n",
              "    <tr>\n",
              "      <th>2</th>\n",
              "      <td>eva_16.jpg</td>\n",
              "      <td>333</td>\n",
              "      <td>500</td>\n",
              "      <td>140.0</td>\n",
              "      <td>177.0</td>\n",
              "      <td>23.0</td>\n",
              "      <td>36.0</td>\n",
              "      <td>hardhat</td>\n",
              "    </tr>\n",
              "    <tr>\n",
              "      <th>3</th>\n",
              "      <td>eva_16.jpg</td>\n",
              "      <td>333</td>\n",
              "      <td>500</td>\n",
              "      <td>220.0</td>\n",
              "      <td>172.0</td>\n",
              "      <td>26.0</td>\n",
              "      <td>46.0</td>\n",
              "      <td>hardhat</td>\n",
              "    </tr>\n",
              "    <tr>\n",
              "      <th>4</th>\n",
              "      <td>eva_16.jpg</td>\n",
              "      <td>333</td>\n",
              "      <td>500</td>\n",
              "      <td>341.0</td>\n",
              "      <td>86.0</td>\n",
              "      <td>26.0</td>\n",
              "      <td>29.0</td>\n",
              "      <td>hardhat</td>\n",
              "    </tr>\n",
              "  </tbody>\n",
              "</table>\n",
              "</div>"
            ],
            "text/plain": [
              "  image_file_name  img_h  img_w     CX     CY     H     W class_label\n",
              "0      eva_16.jpg    333    500   74.0   99.0  21.0  41.0     hardhat\n",
              "1      eva_16.jpg    333    500  130.0   98.0  20.0  33.0     hardhat\n",
              "2      eva_16.jpg    333    500  140.0  177.0  23.0  36.0     hardhat\n",
              "3      eva_16.jpg    333    500  220.0  172.0  26.0  46.0     hardhat\n",
              "4      eva_16.jpg    333    500  341.0   86.0  26.0  29.0     hardhat"
            ]
          },
          "metadata": {
            "tags": []
          },
          "execution_count": 12
        }
      ]
    },
    {
      "cell_type": "code",
      "metadata": {
        "id": "yJUuu71ugvyn"
      },
      "source": [
        "def normalise_row(row):\r\n",
        "  \"\"\".\"\"\"\r\n",
        "  row[\"cx\"] = row[\"CX\"]/row[\"img_w\"]\r\n",
        "  row[\"cy\"] = row[\"CY\"]/row[\"img_h\"]\r\n",
        "  row[\"h\"] = row[\"H\"]/row[\"img_w\"]\r\n",
        "  row[\"w\"] = row[\"W\"]/row[\"img_h\"] \r\n",
        "  return row\r\n",
        "bbox_with_img_data_df = bbox_with_img_data_df.apply(\r\n",
        "    lambda row: normalise_row(row),\r\n",
        "    axis=1\r\n",
        ")"
      ],
      "execution_count": 13,
      "outputs": []
    },
    {
      "cell_type": "code",
      "metadata": {
        "colab": {
          "base_uri": "https://localhost:8080/",
          "height": 204
        },
        "id": "LiZiJA5SilLV",
        "outputId": "f02fa223-4add-4d49-a8e8-b89f6eda5e05"
      },
      "source": [
        "bbox_with_img_data_df.head()"
      ],
      "execution_count": 14,
      "outputs": [
        {
          "output_type": "execute_result",
          "data": {
            "text/html": [
              "<div>\n",
              "<style scoped>\n",
              "    .dataframe tbody tr th:only-of-type {\n",
              "        vertical-align: middle;\n",
              "    }\n",
              "\n",
              "    .dataframe tbody tr th {\n",
              "        vertical-align: top;\n",
              "    }\n",
              "\n",
              "    .dataframe thead th {\n",
              "        text-align: right;\n",
              "    }\n",
              "</style>\n",
              "<table border=\"1\" class=\"dataframe\">\n",
              "  <thead>\n",
              "    <tr style=\"text-align: right;\">\n",
              "      <th></th>\n",
              "      <th>image_file_name</th>\n",
              "      <th>img_h</th>\n",
              "      <th>img_w</th>\n",
              "      <th>CX</th>\n",
              "      <th>CY</th>\n",
              "      <th>H</th>\n",
              "      <th>W</th>\n",
              "      <th>class_label</th>\n",
              "      <th>cx</th>\n",
              "      <th>cy</th>\n",
              "      <th>h</th>\n",
              "      <th>w</th>\n",
              "    </tr>\n",
              "  </thead>\n",
              "  <tbody>\n",
              "    <tr>\n",
              "      <th>0</th>\n",
              "      <td>eva_16.jpg</td>\n",
              "      <td>333</td>\n",
              "      <td>500</td>\n",
              "      <td>74.0</td>\n",
              "      <td>99.0</td>\n",
              "      <td>21.0</td>\n",
              "      <td>41.0</td>\n",
              "      <td>hardhat</td>\n",
              "      <td>0.148</td>\n",
              "      <td>0.297297</td>\n",
              "      <td>0.042</td>\n",
              "      <td>0.123123</td>\n",
              "    </tr>\n",
              "    <tr>\n",
              "      <th>1</th>\n",
              "      <td>eva_16.jpg</td>\n",
              "      <td>333</td>\n",
              "      <td>500</td>\n",
              "      <td>130.0</td>\n",
              "      <td>98.0</td>\n",
              "      <td>20.0</td>\n",
              "      <td>33.0</td>\n",
              "      <td>hardhat</td>\n",
              "      <td>0.260</td>\n",
              "      <td>0.294294</td>\n",
              "      <td>0.040</td>\n",
              "      <td>0.099099</td>\n",
              "    </tr>\n",
              "    <tr>\n",
              "      <th>2</th>\n",
              "      <td>eva_16.jpg</td>\n",
              "      <td>333</td>\n",
              "      <td>500</td>\n",
              "      <td>140.0</td>\n",
              "      <td>177.0</td>\n",
              "      <td>23.0</td>\n",
              "      <td>36.0</td>\n",
              "      <td>hardhat</td>\n",
              "      <td>0.280</td>\n",
              "      <td>0.531532</td>\n",
              "      <td>0.046</td>\n",
              "      <td>0.108108</td>\n",
              "    </tr>\n",
              "    <tr>\n",
              "      <th>3</th>\n",
              "      <td>eva_16.jpg</td>\n",
              "      <td>333</td>\n",
              "      <td>500</td>\n",
              "      <td>220.0</td>\n",
              "      <td>172.0</td>\n",
              "      <td>26.0</td>\n",
              "      <td>46.0</td>\n",
              "      <td>hardhat</td>\n",
              "      <td>0.440</td>\n",
              "      <td>0.516517</td>\n",
              "      <td>0.052</td>\n",
              "      <td>0.138138</td>\n",
              "    </tr>\n",
              "    <tr>\n",
              "      <th>4</th>\n",
              "      <td>eva_16.jpg</td>\n",
              "      <td>333</td>\n",
              "      <td>500</td>\n",
              "      <td>341.0</td>\n",
              "      <td>86.0</td>\n",
              "      <td>26.0</td>\n",
              "      <td>29.0</td>\n",
              "      <td>hardhat</td>\n",
              "      <td>0.682</td>\n",
              "      <td>0.258258</td>\n",
              "      <td>0.052</td>\n",
              "      <td>0.087087</td>\n",
              "    </tr>\n",
              "  </tbody>\n",
              "</table>\n",
              "</div>"
            ],
            "text/plain": [
              "  image_file_name  img_h  img_w     CX  ...     cx        cy      h         w\n",
              "0      eva_16.jpg    333    500   74.0  ...  0.148  0.297297  0.042  0.123123\n",
              "1      eva_16.jpg    333    500  130.0  ...  0.260  0.294294  0.040  0.099099\n",
              "2      eva_16.jpg    333    500  140.0  ...  0.280  0.531532  0.046  0.108108\n",
              "3      eva_16.jpg    333    500  220.0  ...  0.440  0.516517  0.052  0.138138\n",
              "4      eva_16.jpg    333    500  341.0  ...  0.682  0.258258  0.052  0.087087\n",
              "\n",
              "[5 rows x 12 columns]"
            ]
          },
          "metadata": {
            "tags": []
          },
          "execution_count": 14
        }
      ]
    },
    {
      "cell_type": "code",
      "metadata": {
        "colab": {
          "base_uri": "https://localhost:8080/"
        },
        "id": "f5bV8-B6imzG",
        "outputId": "6382b8a3-fa30-436c-dd86-9c57fa410b0f"
      },
      "source": [
        "bbox_with_img_data_df[\"class_label\"].value_counts()"
      ],
      "execution_count": 15,
      "outputs": [
        {
          "output_type": "execute_result",
          "data": {
            "text/plain": [
              "hardhat    302\n",
              "boots      256\n",
              "vest       184\n",
              "mask        40\n",
              "Name: class_label, dtype: int64"
            ]
          },
          "metadata": {
            "tags": []
          },
          "execution_count": 15
        }
      ]
    },
    {
      "cell_type": "code",
      "metadata": {
        "id": "FWATf1yVms8U"
      },
      "source": [
        "from clustering import draw_scatter_plot\r\n",
        "from clustering import  draw_kmeans_knee_plot"
      ],
      "execution_count": 16,
      "outputs": []
    },
    {
      "cell_type": "code",
      "metadata": {
        "colab": {
          "base_uri": "https://localhost:8080/",
          "height": 321
        },
        "id": "-TjCEK4E05fJ",
        "outputId": "61ba215e-e25e-4ddc-c9e9-0e749404e552"
      },
      "source": [
        "draw_scatter_plot(bbox_with_img_data_df)"
      ],
      "execution_count": 17,
      "outputs": [
        {
          "output_type": "display_data",
          "data": {
            "image/png": "[encoded data removed]",
            "text/plain": [
              "<Figure size 432x288 with 1 Axes>"
            ]
          },
          "metadata": {
            "tags": []
          }
        },
        {
          "output_type": "display_data",
          "data": {
            "text/plain": [
              "<Figure size 432x288 with 0 Axes>"
            ]
          },
          "metadata": {
            "tags": []
          }
        }
      ]
    },
    {
      "cell_type": "code",
      "metadata": {
        "colab": {
          "base_uri": "https://localhost:8080/",
          "height": 321
        },
        "id": "gq12oNya085B",
        "outputId": "39219fad-4324-4718-cc4c-ba778ca47a92"
      },
      "source": [
        "X = bbox_with_img_data_df[[\"h\",\"w\"]].values\r\n",
        "draw_kmeans_knee_plot(X)"
      ],
      "execution_count": 18,
      "outputs": [
        {
          "output_type": "display_data",
          "data": {
            "image/png": "[encoded data removed]",
            "text/plain": [
              "<Figure size 432x288 with 1 Axes>"
            ]
          },
          "metadata": {
            "tags": []
          }
        },
        {
          "output_type": "display_data",
          "data": {
            "text/plain": [
              "<Figure size 432x288 with 0 Axes>"
            ]
          },
          "metadata": {
            "tags": []
          }
        }
      ]
    },
    {
      "cell_type": "markdown",
      "metadata": {
        "id": "oE5LphX356Qb"
      },
      "source": [
        "From the knee plot we are not sure which is the optimal value for k."
      ]
    },
    {
      "cell_type": "code",
      "metadata": {
        "colab": {
          "base_uri": "https://localhost:8080/",
          "height": 321
        },
        "id": "XTyXRpqX1HnZ",
        "outputId": "d5c16c6f-f003-4a2f-81ca-4d092f1f8ca2"
      },
      "source": [
        "from clustering import draw_silhoutte_score_plot\r\n",
        "draw_silhoutte_score_plot(X)"
      ],
      "execution_count": 19,
      "outputs": [
        {
          "output_type": "display_data",
          "data": {
            "image/png": "[encoded data removed]",
            "text/plain": [
              "<Figure size 432x288 with 1 Axes>"
            ]
          },
          "metadata": {
            "tags": []
          }
        },
        {
          "output_type": "display_data",
          "data": {
            "text/plain": [
              "<Figure size 432x288 with 0 Axes>"
            ]
          },
          "metadata": {
            "tags": []
          }
        }
      ]
    },
    {
      "cell_type": "markdown",
      "metadata": {
        "id": "5FL0yeh76D_S"
      },
      "source": [
        "In Silhoutte score plot we should choose the k value that gives the highest Silhoutte score. Hense we can choose 4."
      ]
    }
  ]
}