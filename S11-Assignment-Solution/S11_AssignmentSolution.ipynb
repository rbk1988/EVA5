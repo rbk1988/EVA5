{
  "nbformat": 4,
  "nbformat_minor": 0,
  "metadata": {
    "colab": {
      "name": "S11-AssignmentSolution.ipynb",
      "provenance": [],
      "collapsed_sections": [],
      "toc_visible": true
    },
    "kernelspec": {
      "name": "python3",
      "display_name": "Python 3"
    },
    "accelerator": "GPU"
  },
  "cells": [
    {
      "cell_type": "markdown",
      "metadata": {
        "id": "czfiBa5flwHY"
      },
      "source": [
        "# Mounting google drive : \r\n",
        "The trained model weights will be saved here."
      ]
    },
    {
      "cell_type": "code",
      "metadata": {
        "id": "45uBzkx5luUk",
        "colab": {
          "base_uri": "https://localhost:8080/"
        },
        "outputId": "e617da56-1818-47b1-ad20-c4a7033a4243"
      },
      "source": [
        "from google.colab import drive\r\n",
        "drive.mount('/content/gdrive')"
      ],
      "execution_count": 1,
      "outputs": [
        {
          "output_type": "stream",
          "text": [
            "Drive already mounted at /content/gdrive; to attempt to forcibly remount, call drive.mount(\"/content/gdrive\", force_remount=True).\n"
          ],
          "name": "stdout"
        }
      ]
    },
    {
      "cell_type": "markdown",
      "metadata": {
        "id": "GWRAQ2Nn95UZ"
      },
      "source": [
        "# Train and test data loaders"
      ]
    },
    {
      "cell_type": "code",
      "metadata": {
        "id": "rAUpCVTfIbTA"
      },
      "source": [
        ""
      ],
      "execution_count": 1,
      "outputs": []
    },
    {
      "cell_type": "code",
      "metadata": {
        "colab": {
          "base_uri": "https://localhost:8080/"
        },
        "id": "MIGOFxbbjeRb",
        "outputId": "c3b760dc-c8d2-46a0-a36e-60e3f4894a94"
      },
      "source": [
        "! pip install albumentations==0.4.6"
      ],
      "execution_count": 2,
      "outputs": [
        {
          "output_type": "stream",
          "text": [
            "Requirement already satisfied: albumentations==0.4.6 in /usr/local/lib/python3.7/dist-packages (0.4.6)\n",
            "Requirement already satisfied: scipy in /usr/local/lib/python3.7/dist-packages (from albumentations==0.4.6) (1.4.1)\n",
            "Requirement already satisfied: numpy>=1.11.1 in /usr/local/lib/python3.7/dist-packages (from albumentations==0.4.6) (1.19.5)\n",
            "Requirement already satisfied: PyYAML in /usr/local/lib/python3.7/dist-packages (from albumentations==0.4.6) (3.13)\n",
            "Requirement already satisfied: opencv-python>=4.1.1 in /usr/local/lib/python3.7/dist-packages (from albumentations==0.4.6) (4.1.2.30)\n",
            "Requirement already satisfied: imgaug>=0.4.0 in /usr/local/lib/python3.7/dist-packages (from albumentations==0.4.6) (0.4.0)\n",
            "Requirement already satisfied: matplotlib in /usr/local/lib/python3.7/dist-packages (from imgaug>=0.4.0->albumentations==0.4.6) (3.2.2)\n",
            "Requirement already satisfied: scikit-image>=0.14.2 in /usr/local/lib/python3.7/dist-packages (from imgaug>=0.4.0->albumentations==0.4.6) (0.16.2)\n",
            "Requirement already satisfied: Shapely in /usr/local/lib/python3.7/dist-packages (from imgaug>=0.4.0->albumentations==0.4.6) (1.7.1)\n",
            "Requirement already satisfied: imageio in /usr/local/lib/python3.7/dist-packages (from imgaug>=0.4.0->albumentations==0.4.6) (2.4.1)\n",
            "Requirement already satisfied: six in /usr/local/lib/python3.7/dist-packages (from imgaug>=0.4.0->albumentations==0.4.6) (1.15.0)\n",
            "Requirement already satisfied: Pillow in /usr/local/lib/python3.7/dist-packages (from imgaug>=0.4.0->albumentations==0.4.6) (7.0.0)\n",
            "Requirement already satisfied: cycler>=0.10 in /usr/local/lib/python3.7/dist-packages (from matplotlib->imgaug>=0.4.0->albumentations==0.4.6) (0.10.0)\n",
            "Requirement already satisfied: python-dateutil>=2.1 in /usr/local/lib/python3.7/dist-packages (from matplotlib->imgaug>=0.4.0->albumentations==0.4.6) (2.8.1)\n",
            "Requirement already satisfied: pyparsing!=2.0.4,!=2.1.2,!=2.1.6,>=2.0.1 in /usr/local/lib/python3.7/dist-packages (from matplotlib->imgaug>=0.4.0->albumentations==0.4.6) (2.4.7)\n",
            "Requirement already satisfied: kiwisolver>=1.0.1 in /usr/local/lib/python3.7/dist-packages (from matplotlib->imgaug>=0.4.0->albumentations==0.4.6) (1.3.1)\n",
            "Requirement already satisfied: PyWavelets>=0.4.0 in /usr/local/lib/python3.7/dist-packages (from scikit-image>=0.14.2->imgaug>=0.4.0->albumentations==0.4.6) (1.1.1)\n",
            "Requirement already satisfied: networkx>=2.0 in /usr/local/lib/python3.7/dist-packages (from scikit-image>=0.14.2->imgaug>=0.4.0->albumentations==0.4.6) (2.5)\n",
            "Requirement already satisfied: decorator>=4.3.0 in /usr/local/lib/python3.7/dist-packages (from networkx>=2.0->scikit-image>=0.14.2->imgaug>=0.4.0->albumentations==0.4.6) (4.4.2)\n"
          ],
          "name": "stdout"
        }
      ]
    },
    {
      "cell_type": "code",
      "metadata": {
        "colab": {
          "base_uri": "https://localhost:8080/"
        },
        "id": "u9GWBr0YeLWl",
        "outputId": "956d3d04-900e-43c7-ea1c-186f48ef4939"
      },
      "source": [
        "import torch\r\n",
        "import torchvision\r\n",
        "from albumentations.pytorch import ToTensorV2\r\n",
        "from torchvision import transforms\r\n",
        "from data_loader import get_train_test_data_loaders\r\n",
        "batch_size = 512\r\n",
        "train_loader, test_loader, classes = get_train_test_data_loaders(random_seed=1,batch_size =batch_size)"
      ],
      "execution_count": 3,
      "outputs": [
        {
          "output_type": "stream",
          "text": [
            "CUDA Available? True\n",
            "Files already downloaded and verified\n",
            "Files already downloaded and verified\n"
          ],
          "name": "stdout"
        }
      ]
    },
    {
      "cell_type": "code",
      "metadata": {
        "id": "Nhrv7fpnKFlw",
        "colab": {
          "base_uri": "https://localhost:8080/",
          "height": 172
        },
        "outputId": "8649d321-934f-4519-99b7-9ef45d1e529b"
      },
      "source": [
        "%matplotlib inline\r\n",
        "import matplotlib.pyplot as plt\r\n",
        "import numpy as np\r\n",
        "\r\n",
        "# functions to show an image\r\n",
        "def imshow(img):\r\n",
        "    img = img / 2 + 0.5     # unnormalize\r\n",
        "    npimg = img.numpy()\r\n",
        "    plt.imshow(np.transpose(npimg, (1, 2, 0)))\r\n",
        "\r\n",
        "\r\n",
        "# get some random training images\r\n",
        "dataiter = iter(train_loader)\r\n",
        "images, labels = dataiter.next()\r\n",
        "\r\n",
        "# show images\r\n",
        "imshow(torchvision.utils.make_grid(images[0:4]))\r\n",
        "# print labels\r\n",
        "print(' '.join('%5s' % classes[labels[j]] for j in range(4)))"
      ],
      "execution_count": 4,
      "outputs": [
        {
          "output_type": "stream",
          "text": [
            "Clipping input data to the valid range for imshow with RGB data ([0..1] for floats or [0..255] for integers).\n"
          ],
          "name": "stderr"
        },
        {
          "output_type": "stream",
          "text": [
            " deer   car horse   dog\n"
          ],
          "name": "stdout"
        },
        {
          "output_type": "display_data",
          "data": {
            "image/png": "[encoded data removed]",
            "text/plain": [
              "<Figure size 432x288 with 1 Axes>"
            ]
          },
          "metadata": {
            "tags": [],
            "needs_background": "light"
          }
        }
      ]
    },
    {
      "cell_type": "code",
      "metadata": {
        "id": "x0dVwLkbfQv9",
        "colab": {
          "base_uri": "https://localhost:8080/"
        },
        "outputId": "72861859-0bfb-4aa7-9deb-771e7b38a3f6"
      },
      "source": [
        "from resnet_new import myResNetNew\r\n",
        "use_cuda = torch.cuda.is_available()\r\n",
        "device = torch.device(\"cuda\" if use_cuda else \"cpu\")\r\n",
        "print(\"device: \",device)\r\n",
        "model = myResNetNew().to(device)"
      ],
      "execution_count": 5,
      "outputs": [
        {
          "output_type": "stream",
          "text": [
            "device:  cuda\n"
          ],
          "name": "stdout"
        }
      ]
    },
    {
      "cell_type": "code",
      "metadata": {
        "id": "AM40djEpgouM",
        "colab": {
          "base_uri": "https://localhost:8080/"
        },
        "outputId": "5d37d8ce-8d68-4f3c-842f-e9615ded5fc3"
      },
      "source": [
        "from torchsummary import summary\r\n",
        "summary(model, input_size=(3,32,32))"
      ],
      "execution_count": 6,
      "outputs": [
        {
          "output_type": "stream",
          "text": [
            "----------------------------------------------------------------\n",
            "        Layer (type)               Output Shape         Param #\n",
            "================================================================\n",
            "            Conv2d-1           [-1, 64, 32, 32]           1,728\n",
            "       BatchNorm2d-2           [-1, 64, 32, 32]             128\n",
            "            Conv2d-3          [-1, 128, 32, 32]          73,728\n",
            "         MaxPool2d-4          [-1, 128, 16, 16]               0\n",
            "       BatchNorm2d-5          [-1, 128, 16, 16]             256\n",
            "         ConvBlock-6          [-1, 128, 16, 16]               0\n",
            "            Conv2d-7          [-1, 128, 16, 16]         147,456\n",
            "       BatchNorm2d-8          [-1, 128, 16, 16]             256\n",
            "            Conv2d-9          [-1, 128, 16, 16]         147,456\n",
            "      BatchNorm2d-10          [-1, 128, 16, 16]             256\n",
            "         ResBlock-11          [-1, 128, 16, 16]               0\n",
            "           Conv2d-12          [-1, 256, 16, 16]         294,912\n",
            "        MaxPool2d-13            [-1, 256, 8, 8]               0\n",
            "      BatchNorm2d-14            [-1, 256, 8, 8]             512\n",
            "        ConvBlock-15            [-1, 256, 8, 8]               0\n",
            "           Conv2d-16            [-1, 512, 8, 8]       1,179,648\n",
            "        MaxPool2d-17            [-1, 512, 4, 4]               0\n",
            "      BatchNorm2d-18            [-1, 512, 4, 4]           1,024\n",
            "        ConvBlock-19            [-1, 512, 4, 4]               0\n",
            "           Conv2d-20            [-1, 512, 4, 4]       2,359,296\n",
            "      BatchNorm2d-21            [-1, 512, 4, 4]           1,024\n",
            "           Conv2d-22            [-1, 512, 4, 4]       2,359,296\n",
            "      BatchNorm2d-23            [-1, 512, 4, 4]           1,024\n",
            "         ResBlock-24            [-1, 512, 4, 4]               0\n",
            "           Conv2d-25             [-1, 10, 1, 1]           5,120\n",
            "================================================================\n",
            "Total params: 6,573,120\n",
            "Trainable params: 6,573,120\n",
            "Non-trainable params: 0\n",
            "----------------------------------------------------------------\n",
            "Input size (MB): 0.01\n",
            "Forward/backward pass size (MB): 5.63\n",
            "Params size (MB): 25.07\n",
            "Estimated Total Size (MB): 30.71\n",
            "----------------------------------------------------------------\n"
          ],
          "name": "stdout"
        }
      ]
    },
    {
      "cell_type": "code",
      "metadata": {
        "id": "-kYp5e5x2eV3",
        "colab": {
          "base_uri": "https://localhost:8080/"
        },
        "outputId": "e247274c-ac78-482d-8923-8be9d2a18544"
      },
      "source": [
        "len(train_loader)\r\n",
        "len(train_loader.dataset)"
      ],
      "execution_count": 9,
      "outputs": [
        {
          "output_type": "execute_result",
          "data": {
            "text/plain": [
              "50000"
            ]
          },
          "metadata": {
            "tags": []
          },
          "execution_count": 9
        }
      ]
    },
    {
      "cell_type": "markdown",
      "metadata": {
        "id": "0oohhZC2hfKn"
      },
      "source": [
        "# Finding the min and max learning rates for One Cycle Policy"
      ]
    },
    {
      "cell_type": "code",
      "metadata": {
        "id": "3WC0W6crhjvl"
      },
      "source": [
        "from lr_range_test import run_learning_rate_range_test\r\n",
        "import torch.nn as nn\r\n",
        "\r\n",
        "model = myResNetNew().to(device)\r\n",
        "criterion = nn.CrossEntropyLoss()\r\n",
        "optimizer = torch.optim.SGD(model.parameters(), lr=1e-4, momentum=0.95, weight_decay=1e-4)"
      ],
      "execution_count": 8,
      "outputs": []
    },
    {
      "cell_type": "code",
      "metadata": {
        "colab": {
          "base_uri": "https://localhost:8080/",
          "height": 317
        },
        "id": "-QxzzY8snP5O",
        "outputId": "cf359fcf-4a29-42c9-fde3-dd682e4c1412"
      },
      "source": [
        "run_learning_rate_range_test(model, criterion, optimizer,\r\n",
        "                                 train_loader, device)"
      ],
      "execution_count": 9,
      "outputs": [
        {
          "output_type": "stream",
          "text": [
            "Min loss: 2.10016982511722\n",
            "LR for min loss: 0.09312626067333\n"
          ],
          "name": "stdout"
        },
        {
          "output_type": "display_data",
          "data": {
            "image/png": "[encoded data removed]",
            "text/plain": [
              "<Figure size 432x288 with 1 Axes>"
            ]
          },
          "metadata": {
            "tags": [],
            "needs_background": "light"
          }
        }
      ]
    },
    {
      "cell_type": "markdown",
      "metadata": {
        "id": "31XcBKHfnfl4"
      },
      "source": [
        "The loss is min at lr =0.0931 .   \r\n",
        "The max lr for OCP will be one power higher than the above lr.   \r\n",
        "So we choose 0.931 as the max lr for OCP."
      ]
    },
    {
      "cell_type": "markdown",
      "metadata": {
        "id": "XBuRY6rYZIWN"
      },
      "source": [
        "# Training the model"
      ]
    },
    {
      "cell_type": "code",
      "metadata": {
        "id": "6PVm9X0WhtiN",
        "colab": {
          "base_uri": "https://localhost:8080/"
        },
        "outputId": "f16a7cdb-0bac-4ac3-f4b1-c808edcee335"
      },
      "source": [
        "from cifar10_trainer import fit\r\n",
        "from OneCycle import OneCycle\r\n",
        "import torch.nn as nn\r\n",
        "\r\n",
        "\r\n",
        "model = myResNetNew().to(device)\r\n",
        "criterion = nn.CrossEntropyLoss()\r\n",
        "optimizer = torch.optim.SGD(model.parameters(), lr=1e-4, momentum=0.95, weight_decay=1e-4)\r\n",
        "number_of_epochs = 24\r\n",
        "bs=512\r\n",
        "\r\n",
        "onecycle = OneCycle(\r\n",
        "    int(len(train_loader.dataset) * number_of_epochs/bs),\r\n",
        "    0.931,\r\n",
        "    prcnt=0,\r\n",
        "    momentum_vals=(0.95, 0.8)\r\n",
        ")\r\n",
        "train_stats, test_stats = fit(\r\n",
        "    num_epochs=24,\r\n",
        "    use_onecycle=False,\r\n",
        "    onecycle=onecycle,\r\n",
        "    model=model,\r\n",
        "    device=\"cuda\",\r\n",
        "    optimizer=optimizer,\r\n",
        "    criterion=criterion,\r\n",
        "    train_loader=train_loader,\r\n",
        "    test_loader=test_loader\r\n",
        ")"
      ],
      "execution_count": 7,
      "outputs": [
        {
          "output_type": "stream",
          "text": [
            "Epoch\tTrn_loss\tVal_loss\tTrn_acc\t\tVal_acc\n"
          ],
          "name": "stdout"
        },
        {
          "output_type": "stream",
          "text": [
            "/content/cifar10_trainer.py:127: UserWarning: volatile was removed and now has no effect. Use `with torch.no_grad():` instead.\n",
            "  var_ip = Variable(input, volatile=True)\n",
            "/content/cifar10_trainer.py:128: UserWarning: volatile was removed and now has no effect. Use `with torch.no_grad():` instead.\n",
            "  var_tg = Variable(target, volatile=True)\n"
          ],
          "name": "stderr"
        },
        {
          "output_type": "stream",
          "text": [
            "1\t2.14709873\t2.05052635\t19.97399902\t21.09666634\n",
            "2\t1.95141205\t1.86161365\t24.84454536\t25.56833267\n",
            "3\t1.82227705\t1.72652905\t28.12529373\t28.69888878\n",
            "4\t1.72545755\t1.63257080\t30.61913109\t31.07166672\n",
            "5\t1.65349513\t1.55927041\t32.61862183\t32.98533249\n",
            "6\t1.59739709\t1.50619316\t34.31485748\t34.62111282\n",
            "7\t1.54294410\t1.45528919\t35.76170731\t36.03428650\n",
            "8\t1.50203836\t1.41194077\t37.03765869\t37.28395844\n",
            "9\t1.47542513\t1.38166489\t38.20169830\t38.42036819\n",
            "10\t1.43359267\t1.34242516\t39.26525497\t39.46400070\n",
            "11\t1.39955969\t1.31081683\t40.23830795\t40.42515182\n",
            "12\t1.37391470\t1.29071057\t41.14168930\t41.30486298\n",
            "13\t1.34476875\t1.25221476\t41.99142838\t42.15705109\n",
            "14\t1.31591265\t1.22288280\t42.80638504\t42.96416473\n",
            "15\t1.28998402\t1.20305927\t43.57854080\t43.72244644\n",
            "16\t1.26265649\t1.18028828\t44.31336594\t44.45500183\n",
            "17\t1.23479457\t1.15417003\t45.02227783\t45.15323639\n",
            "18\t1.21652391\t1.13229763\t45.68934631\t45.81657410\n",
            "19\t1.19788916\t1.11937448\t46.33557510\t46.45482254\n",
            "20\t1.17756724\t1.09381308\t46.95042038\t47.06391525\n",
            "21\t1.15466935\t1.07738529\t47.54199982\t47.65142822\n",
            "22\t1.14173669\t1.06104846\t48.10183334\t48.21113586\n",
            "23\t1.12089406\t1.04027463\t48.64978027\t48.75239563\n",
            "24\t1.10513790\t1.02953192\t49.17132950\t49.27090073\n"
          ],
          "name": "stdout"
        }
      ]
    },
    {
      "cell_type": "code",
      "metadata": {
        "id": "5RdCr56Xt-Bj"
      },
      "source": [
        ""
      ],
      "execution_count": null,
      "outputs": []
    }
  ]
}