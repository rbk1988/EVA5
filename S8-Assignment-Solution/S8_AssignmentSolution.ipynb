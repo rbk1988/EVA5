{
  "nbformat": 4,
  "nbformat_minor": 0,
  "metadata": {
    "colab": {
      "name": "S8-AssignmentSolution.ipynb",
      "provenance": [],
      "collapsed_sections": [],
      "toc_visible": true
    },
    "kernelspec": {
      "name": "python3",
      "display_name": "Python 3"
    },
    "accelerator": "GPU",
    "widgets": {
      "application/vnd.jupyter.widget-state+json": {
        "8b33388ee11f4c1d98e2b5f6c98b0a83": {
          "model_module": "@jupyter-widgets/controls",
          "model_name": "HBoxModel",
          "state": {
            "_view_name": "HBoxView",
            "_dom_classes": [],
            "_model_name": "HBoxModel",
            "_view_module": "@jupyter-widgets/controls",
            "_model_module_version": "1.5.0",
            "_view_count": null,
            "_view_module_version": "1.5.0",
            "box_style": "",
            "layout": "IPY_MODEL_8031fc5b0bb3476da7a4864fd78f01a1",
            "_model_module": "@jupyter-widgets/controls",
            "children": [
              "IPY_MODEL_c79222a6c5ef491c9cd47e5405c93c6c",
              "IPY_MODEL_a52142926f1f447c9fd491d601711e8c"
            ]
          }
        },
        "8031fc5b0bb3476da7a4864fd78f01a1": {
          "model_module": "@jupyter-widgets/base",
          "model_name": "LayoutModel",
          "state": {
            "_view_name": "LayoutView",
            "grid_template_rows": null,
            "right": null,
            "justify_content": null,
            "_view_module": "@jupyter-widgets/base",
            "overflow": null,
            "_model_module_version": "1.2.0",
            "_view_count": null,
            "flex_flow": null,
            "width": null,
            "min_width": null,
            "border": null,
            "align_items": null,
            "bottom": null,
            "_model_module": "@jupyter-widgets/base",
            "top": null,
            "grid_column": null,
            "overflow_y": null,
            "overflow_x": null,
            "grid_auto_flow": null,
            "grid_area": null,
            "grid_template_columns": null,
            "flex": null,
            "_model_name": "LayoutModel",
            "justify_items": null,
            "grid_row": null,
            "max_height": null,
            "align_content": null,
            "visibility": null,
            "align_self": null,
            "height": null,
            "min_height": null,
            "padding": null,
            "grid_auto_rows": null,
            "grid_gap": null,
            "max_width": null,
            "order": null,
            "_view_module_version": "1.2.0",
            "grid_template_areas": null,
            "object_position": null,
            "object_fit": null,
            "grid_auto_columns": null,
            "margin": null,
            "display": null,
            "left": null
          }
        },
        "c79222a6c5ef491c9cd47e5405c93c6c": {
          "model_module": "@jupyter-widgets/controls",
          "model_name": "FloatProgressModel",
          "state": {
            "_view_name": "ProgressView",
            "style": "IPY_MODEL_4d197952e70843878c7755662c30ded9",
            "_dom_classes": [],
            "description": "",
            "_model_name": "FloatProgressModel",
            "bar_style": "info",
            "max": 1,
            "_view_module": "@jupyter-widgets/controls",
            "_model_module_version": "1.5.0",
            "value": 1,
            "_view_count": null,
            "_view_module_version": "1.5.0",
            "orientation": "horizontal",
            "min": 0,
            "description_tooltip": null,
            "_model_module": "@jupyter-widgets/controls",
            "layout": "IPY_MODEL_e7a3b277969b41049e5719b945962359"
          }
        },
        "a52142926f1f447c9fd491d601711e8c": {
          "model_module": "@jupyter-widgets/controls",
          "model_name": "HTMLModel",
          "state": {
            "_view_name": "HTMLView",
            "style": "IPY_MODEL_605743d34c0e48838fb6778b1bb0bde6",
            "_dom_classes": [],
            "description": "",
            "_model_name": "HTMLModel",
            "placeholder": "​",
            "_view_module": "@jupyter-widgets/controls",
            "_model_module_version": "1.5.0",
            "value": " 170500096/? [00:20&lt;00:00, 53313088.11it/s]",
            "_view_count": null,
            "_view_module_version": "1.5.0",
            "description_tooltip": null,
            "_model_module": "@jupyter-widgets/controls",
            "layout": "IPY_MODEL_5cc53188b2b0445e991fdeaa6220e083"
          }
        },
        "4d197952e70843878c7755662c30ded9": {
          "model_module": "@jupyter-widgets/controls",
          "model_name": "ProgressStyleModel",
          "state": {
            "_view_name": "StyleView",
            "_model_name": "ProgressStyleModel",
            "description_width": "initial",
            "_view_module": "@jupyter-widgets/base",
            "_model_module_version": "1.5.0",
            "_view_count": null,
            "_view_module_version": "1.2.0",
            "bar_color": null,
            "_model_module": "@jupyter-widgets/controls"
          }
        },
        "e7a3b277969b41049e5719b945962359": {
          "model_module": "@jupyter-widgets/base",
          "model_name": "LayoutModel",
          "state": {
            "_view_name": "LayoutView",
            "grid_template_rows": null,
            "right": null,
            "justify_content": null,
            "_view_module": "@jupyter-widgets/base",
            "overflow": null,
            "_model_module_version": "1.2.0",
            "_view_count": null,
            "flex_flow": null,
            "width": null,
            "min_width": null,
            "border": null,
            "align_items": null,
            "bottom": null,
            "_model_module": "@jupyter-widgets/base",
            "top": null,
            "grid_column": null,
            "overflow_y": null,
            "overflow_x": null,
            "grid_auto_flow": null,
            "grid_area": null,
            "grid_template_columns": null,
            "flex": null,
            "_model_name": "LayoutModel",
            "justify_items": null,
            "grid_row": null,
            "max_height": null,
            "align_content": null,
            "visibility": null,
            "align_self": null,
            "height": null,
            "min_height": null,
            "padding": null,
            "grid_auto_rows": null,
            "grid_gap": null,
            "max_width": null,
            "order": null,
            "_view_module_version": "1.2.0",
            "grid_template_areas": null,
            "object_position": null,
            "object_fit": null,
            "grid_auto_columns": null,
            "margin": null,
            "display": null,
            "left": null
          }
        },
        "605743d34c0e48838fb6778b1bb0bde6": {
          "model_module": "@jupyter-widgets/controls",
          "model_name": "DescriptionStyleModel",
          "state": {
            "_view_name": "StyleView",
            "_model_name": "DescriptionStyleModel",
            "description_width": "",
            "_view_module": "@jupyter-widgets/base",
            "_model_module_version": "1.5.0",
            "_view_count": null,
            "_view_module_version": "1.2.0",
            "_model_module": "@jupyter-widgets/controls"
          }
        },
        "5cc53188b2b0445e991fdeaa6220e083": {
          "model_module": "@jupyter-widgets/base",
          "model_name": "LayoutModel",
          "state": {
            "_view_name": "LayoutView",
            "grid_template_rows": null,
            "right": null,
            "justify_content": null,
            "_view_module": "@jupyter-widgets/base",
            "overflow": null,
            "_model_module_version": "1.2.0",
            "_view_count": null,
            "flex_flow": null,
            "width": null,
            "min_width": null,
            "border": null,
            "align_items": null,
            "bottom": null,
            "_model_module": "@jupyter-widgets/base",
            "top": null,
            "grid_column": null,
            "overflow_y": null,
            "overflow_x": null,
            "grid_auto_flow": null,
            "grid_area": null,
            "grid_template_columns": null,
            "flex": null,
            "_model_name": "LayoutModel",
            "justify_items": null,
            "grid_row": null,
            "max_height": null,
            "align_content": null,
            "visibility": null,
            "align_self": null,
            "height": null,
            "min_height": null,
            "padding": null,
            "grid_auto_rows": null,
            "grid_gap": null,
            "max_width": null,
            "order": null,
            "_view_module_version": "1.2.0",
            "grid_template_areas": null,
            "object_position": null,
            "object_fit": null,
            "grid_auto_columns": null,
            "margin": null,
            "display": null,
            "left": null
          }
        }
      }
    }
  },
  "cells": [
    {
      "cell_type": "markdown",
      "metadata": {
        "id": "czfiBa5flwHY"
      },
      "source": [
        "# Mounting google drive : \r\n",
        "The trained model weights will be saved here."
      ]
    },
    {
      "cell_type": "code",
      "metadata": {
        "id": "45uBzkx5luUk",
        "colab": {
          "base_uri": "https://localhost:8080/"
        },
        "outputId": "80016883-55ff-4ceb-dd9a-99e47f0691bc"
      },
      "source": [
        "from google.colab import drive\r\n",
        "drive.mount('/content/gdrive')"
      ],
      "execution_count": 1,
      "outputs": [
        {
          "output_type": "stream",
          "text": [
            "Mounted at /content/gdrive\n"
          ],
          "name": "stdout"
        }
      ]
    },
    {
      "cell_type": "markdown",
      "metadata": {
        "id": "GWRAQ2Nn95UZ"
      },
      "source": [
        "# Train and test data loaders"
      ]
    },
    {
      "cell_type": "code",
      "metadata": {
        "id": "rAUpCVTfIbTA"
      },
      "source": [
        "%matplotlib inline\r\n",
        "import matplotlib.pyplot as plt"
      ],
      "execution_count": null,
      "outputs": []
    },
    {
      "cell_type": "code",
      "metadata": {
        "id": "8-LP_4Ryi4e1"
      },
      "source": [
        "# !wget https://www.cs.toronto.edu/~kriz/cifar-10-python.tar.gz"
      ],
      "execution_count": null,
      "outputs": []
    },
    {
      "cell_type": "code",
      "metadata": {
        "colab": {
          "base_uri": "https://localhost:8080/",
          "height": 117,
          "referenced_widgets": [
            "8b33388ee11f4c1d98e2b5f6c98b0a83",
            "8031fc5b0bb3476da7a4864fd78f01a1",
            "c79222a6c5ef491c9cd47e5405c93c6c",
            "a52142926f1f447c9fd491d601711e8c",
            "4d197952e70843878c7755662c30ded9",
            "e7a3b277969b41049e5719b945962359",
            "605743d34c0e48838fb6778b1bb0bde6",
            "5cc53188b2b0445e991fdeaa6220e083"
          ]
        },
        "id": "u9GWBr0YeLWl",
        "outputId": "ec515278-d67e-464f-986c-26794b4de45b"
      },
      "source": [
        "import torch\r\n",
        "import torchvision\r\n",
        "from torchvision import transforms\r\n",
        "from data_loader import get_train_test_data_loaders\r\n",
        "batch_size = 100\r\n",
        "train_loader, test_loader, classes = get_train_test_data_loaders(random_seed=1,batch_size =batch_size)"
      ],
      "execution_count": 3,
      "outputs": [
        {
          "output_type": "stream",
          "text": [
            "CUDA Available? True\n",
            "Downloading https://www.cs.toronto.edu/~kriz/cifar-10-python.tar.gz to ./data/cifar-10-python.tar.gz\n"
          ],
          "name": "stdout"
        },
        {
          "output_type": "display_data",
          "data": {
            "application/vnd.jupyter.widget-view+json": {
              "model_id": "8b33388ee11f4c1d98e2b5f6c98b0a83",
              "version_minor": 0,
              "version_major": 2
            },
            "text/plain": [
              "HBox(children=(FloatProgress(value=1.0, bar_style='info', max=1.0), HTML(value='')))"
            ]
          },
          "metadata": {
            "tags": []
          }
        },
        {
          "output_type": "stream",
          "text": [
            "Extracting ./data/cifar-10-python.tar.gz to ./data\n",
            "Files already downloaded and verified\n"
          ],
          "name": "stdout"
        }
      ]
    },
    {
      "cell_type": "code",
      "metadata": {
        "id": "Nhrv7fpnKFlw",
        "colab": {
          "base_uri": "https://localhost:8080/",
          "height": 172
        },
        "outputId": "80c1e68d-1152-4d02-c421-bc26ca44912d"
      },
      "source": [
        "import numpy as np\r\n",
        "\r\n",
        "# functions to show an image\r\n",
        "def imshow(img):\r\n",
        "    img = img / 2 + 0.5     # unnormalize\r\n",
        "    npimg = img.numpy()\r\n",
        "    plt.imshow(np.transpose(npimg, (1, 2, 0)))\r\n",
        "\r\n",
        "\r\n",
        "# get some random training images\r\n",
        "dataiter = iter(train_loader)\r\n",
        "images, labels = dataiter.next()\r\n",
        "\r\n",
        "# show images\r\n",
        "imshow(torchvision.utils.make_grid(images[0:4]))\r\n",
        "# print labels\r\n",
        "print(' '.join('%5s' % classes[labels[j]] for j in range(4)))"
      ],
      "execution_count": null,
      "outputs": [
        {
          "output_type": "stream",
          "text": [
            "Clipping input data to the valid range for imshow with RGB data ([0..1] for floats or [0..255] for integers).\n"
          ],
          "name": "stderr"
        },
        {
          "output_type": "stream",
          "text": [
            " deer   car horse   dog\n"
          ],
          "name": "stdout"
        },
        {
          "output_type": "display_data",
          "data": {
            "image/png": "[encoded data removed]",
            "text/plain": [
              "<Figure size 432x288 with 1 Axes>"
            ]
          },
          "metadata": {
            "tags": [],
            "needs_background": "light"
          }
        }
      ]
    },
    {
      "cell_type": "code",
      "metadata": {
        "id": "x0dVwLkbfQv9",
        "colab": {
          "base_uri": "https://localhost:8080/"
        },
        "outputId": "fa3fc493-f176-4de9-ed0a-df7f5e55693d"
      },
      "source": [
        "from resnet import ResNet18\r\n",
        "use_cuda = torch.cuda.is_available()\r\n",
        "device = torch.device(\"cuda\" if use_cuda else \"cpu\")\r\n",
        "print(\"device: \",device)\r\n",
        "model = ResNet18().to(device)"
      ],
      "execution_count": 4,
      "outputs": [
        {
          "output_type": "stream",
          "text": [
            "device:  cuda\n"
          ],
          "name": "stdout"
        }
      ]
    },
    {
      "cell_type": "code",
      "metadata": {
        "id": "AM40djEpgouM",
        "colab": {
          "base_uri": "https://localhost:8080/"
        },
        "outputId": "d6799611-b121-40f4-aaea-583cd36aad31"
      },
      "source": [
        "from torchsummary import summary\r\n",
        "summary(model, input_size=(3,32,32))"
      ],
      "execution_count": null,
      "outputs": [
        {
          "output_type": "stream",
          "text": [
            "----------------------------------------------------------------\n",
            "        Layer (type)               Output Shape         Param #\n",
            "================================================================\n",
            "            Conv2d-1           [-1, 64, 32, 32]           1,728\n",
            "       BatchNorm2d-2           [-1, 64, 32, 32]             128\n",
            "            Conv2d-3           [-1, 64, 32, 32]          36,864\n",
            "       BatchNorm2d-4           [-1, 64, 32, 32]             128\n",
            "            Conv2d-5           [-1, 64, 32, 32]          36,864\n",
            "       BatchNorm2d-6           [-1, 64, 32, 32]             128\n",
            "        BasicBlock-7           [-1, 64, 32, 32]               0\n",
            "            Conv2d-8           [-1, 64, 32, 32]          36,864\n",
            "       BatchNorm2d-9           [-1, 64, 32, 32]             128\n",
            "           Conv2d-10           [-1, 64, 32, 32]          36,864\n",
            "      BatchNorm2d-11           [-1, 64, 32, 32]             128\n",
            "       BasicBlock-12           [-1, 64, 32, 32]               0\n",
            "           Conv2d-13          [-1, 128, 16, 16]          73,728\n",
            "      BatchNorm2d-14          [-1, 128, 16, 16]             256\n",
            "           Conv2d-15          [-1, 128, 16, 16]         147,456\n",
            "      BatchNorm2d-16          [-1, 128, 16, 16]             256\n",
            "           Conv2d-17          [-1, 128, 16, 16]           8,192\n",
            "      BatchNorm2d-18          [-1, 128, 16, 16]             256\n",
            "       BasicBlock-19          [-1, 128, 16, 16]               0\n",
            "           Conv2d-20          [-1, 128, 16, 16]         147,456\n",
            "      BatchNorm2d-21          [-1, 128, 16, 16]             256\n",
            "           Conv2d-22          [-1, 128, 16, 16]         147,456\n",
            "      BatchNorm2d-23          [-1, 128, 16, 16]             256\n",
            "       BasicBlock-24          [-1, 128, 16, 16]               0\n",
            "           Conv2d-25            [-1, 256, 8, 8]         294,912\n",
            "      BatchNorm2d-26            [-1, 256, 8, 8]             512\n",
            "           Conv2d-27            [-1, 256, 8, 8]         589,824\n",
            "      BatchNorm2d-28            [-1, 256, 8, 8]             512\n",
            "           Conv2d-29            [-1, 256, 8, 8]          32,768\n",
            "      BatchNorm2d-30            [-1, 256, 8, 8]             512\n",
            "       BasicBlock-31            [-1, 256, 8, 8]               0\n",
            "           Conv2d-32            [-1, 256, 8, 8]         589,824\n",
            "      BatchNorm2d-33            [-1, 256, 8, 8]             512\n",
            "           Conv2d-34            [-1, 256, 8, 8]         589,824\n",
            "      BatchNorm2d-35            [-1, 256, 8, 8]             512\n",
            "       BasicBlock-36            [-1, 256, 8, 8]               0\n",
            "           Conv2d-37            [-1, 512, 4, 4]       1,179,648\n",
            "      BatchNorm2d-38            [-1, 512, 4, 4]           1,024\n",
            "           Conv2d-39            [-1, 512, 4, 4]       2,359,296\n",
            "      BatchNorm2d-40            [-1, 512, 4, 4]           1,024\n",
            "           Conv2d-41            [-1, 512, 4, 4]         131,072\n",
            "      BatchNorm2d-42            [-1, 512, 4, 4]           1,024\n",
            "       BasicBlock-43            [-1, 512, 4, 4]               0\n",
            "           Conv2d-44            [-1, 512, 4, 4]       2,359,296\n",
            "      BatchNorm2d-45            [-1, 512, 4, 4]           1,024\n",
            "           Conv2d-46            [-1, 512, 4, 4]       2,359,296\n",
            "      BatchNorm2d-47            [-1, 512, 4, 4]           1,024\n",
            "       BasicBlock-48            [-1, 512, 4, 4]               0\n",
            "           Linear-49                   [-1, 10]           5,130\n",
            "================================================================\n",
            "Total params: 11,173,962\n",
            "Trainable params: 11,173,962\n",
            "Non-trainable params: 0\n",
            "----------------------------------------------------------------\n",
            "Input size (MB): 0.01\n",
            "Forward/backward pass size (MB): 11.25\n",
            "Params size (MB): 42.63\n",
            "Estimated Total Size (MB): 53.89\n",
            "----------------------------------------------------------------\n"
          ],
          "name": "stdout"
        }
      ]
    },
    {
      "cell_type": "code",
      "metadata": {
        "id": "6PVm9X0WhtiN",
        "colab": {
          "base_uri": "https://localhost:8080/"
        },
        "outputId": "aa5ed0a3-207d-481f-cbcc-989203a50800"
      },
      "source": [
        "from torch.optim.lr_scheduler import CosineAnnealingLR\r\n",
        "import torch.optim as optim\r\n",
        "from cifar10_trainer import ModelTrainer\r\n",
        "import torch.nn.functional as F\r\n",
        "import torch.nn as nn\r\n",
        "\r\n",
        "criterion = nn.CrossEntropyLoss()\r\n",
        "\r\n",
        "\r\n",
        "root_path = r\"/content/gdrive/MyDrive/EVA5/S8AssignmentSolution\"\r\n",
        "\r\n",
        "EPOCHS = 20\r\n",
        "train_test_history ={}\r\n",
        "\r\n",
        "model = ResNet18().to(device)\r\n",
        "optimizer = optim.SGD(model.parameters(), lr=0.01, momentum=0.9, weight_decay=5e-4)\r\n",
        "scheduler = CosineAnnealingLR(optimizer, T_max=200)\r\n",
        "model_trainer = ModelTrainer()\r\n",
        "  \r\n",
        "for epoch in range(1,EPOCHS+1):\r\n",
        "  print(\"EPOCH:\", epoch)\r\n",
        "  model_trainer.train(model, device, train_loader, optimizer, epoch, criterion, l1_penalty=0)\r\n",
        "  scheduler.step()\r\n",
        "  model_trainer.test(model, device, test_loader, criterion)\r\n",
        "\r\n",
        "  train_test_history[epoch] = {\r\n",
        "      \"train_losses\": model_trainer.train_losses,\r\n",
        "      \"test_losses\": model_trainer.test_losses,\r\n",
        "      \"train_accuracies\": model_trainer.train_acc,\r\n",
        "      \"test_accuracies\": model_trainer.test_acc\r\n",
        "  }\r\n",
        "  # save model weights after every 50 epochs\r\n",
        "  if epoch%10 == 0:\r\n",
        "    model_file_name = f\"cifar_10_epoch_{epoch}.pth\"\r\n",
        "    model_path =f\"{root_path}/{model_file_name}\"\r\n",
        "    torch.save(model.state_dict(), model_path)\r\n",
        "    print(f\"Saving the model for at {model_path}.\")"
      ],
      "execution_count": null,
      "outputs": [
        {
          "output_type": "stream",
          "text": [
            "EPOCH: 1\n",
            "Train set: Average loss: 0.0148, Accuracy: 23172/50000 (46.34%)\n",
            "Test set: Average loss: 0.0131, Accuracy: 5251/10000 (52.51%)\n",
            "EPOCH: 2\n",
            "Train set: Average loss: 0.0101, Accuracy: 32137/50000 (64.27%)\n",
            "Test set: Average loss: 0.0076, Accuracy: 7338/10000 (73.38%)\n",
            "EPOCH: 3\n",
            "Train set: Average loss: 0.0081, Accuracy: 35738/50000 (71.48%)\n",
            "Test set: Average loss: 0.0067, Accuracy: 7668/10000 (76.68%)\n",
            "EPOCH: 4\n",
            "Train set: Average loss: 0.0071, Accuracy: 37745/50000 (75.49%)\n",
            "Test set: Average loss: 0.0066, Accuracy: 7706/10000 (77.06%)\n",
            "EPOCH: 5\n",
            "Train set: Average loss: 0.0063, Accuracy: 39025/50000 (78.05%)\n",
            "Test set: Average loss: 0.0063, Accuracy: 7949/10000 (79.49%)\n",
            "EPOCH: 6\n",
            "Train set: Average loss: 0.0058, Accuracy: 39795/50000 (79.59%)\n",
            "Test set: Average loss: 0.0050, Accuracy: 8286/10000 (82.86%)\n",
            "EPOCH: 7\n",
            "Train set: Average loss: 0.0053, Accuracy: 40695/50000 (81.39%)\n",
            "Test set: Average loss: 0.0051, Accuracy: 8298/10000 (82.98%)\n",
            "EPOCH: 8\n",
            "Train set: Average loss: 0.0049, Accuracy: 41391/50000 (82.78%)\n",
            "Test set: Average loss: 0.0055, Accuracy: 8132/10000 (81.32%)\n",
            "EPOCH: 9\n",
            "Train set: Average loss: 0.0046, Accuracy: 41852/50000 (83.70%)\n",
            "Test set: Average loss: 0.0055, Accuracy: 8167/10000 (81.67%)\n",
            "EPOCH: 10\n",
            "Train set: Average loss: 0.0044, Accuracy: 42416/50000 (84.83%)\n",
            "Test set: Average loss: 0.0042, Accuracy: 8570/10000 (85.70%)\n",
            "Saving the model for at /content/gdrive/MyDrive/EVA5/S8AssignmentSolution/cifar_10_epoch_10.pth.\n",
            "EPOCH: 11\n",
            "Train set: Average loss: 0.0041, Accuracy: 42832/50000 (85.66%)\n",
            "Test set: Average loss: 0.0045, Accuracy: 8535/10000 (85.35%)\n",
            "EPOCH: 12\n",
            "Train set: Average loss: 0.0039, Accuracy: 43213/50000 (86.43%)\n",
            "Test set: Average loss: 0.0048, Accuracy: 8428/10000 (84.28%)\n",
            "EPOCH: 13\n",
            "Train set: Average loss: 0.0037, Accuracy: 43609/50000 (87.22%)\n",
            "Test set: Average loss: 0.0042, Accuracy: 8590/10000 (85.90%)\n",
            "EPOCH: 14\n",
            "Train set: Average loss: 0.0035, Accuracy: 43906/50000 (87.81%)\n",
            "Test set: Average loss: 0.0042, Accuracy: 8575/10000 (85.75%)\n",
            "EPOCH: 15\n",
            "Train set: Average loss: 0.0034, Accuracy: 43981/50000 (87.96%)\n",
            "Test set: Average loss: 0.0038, Accuracy: 8680/10000 (86.80%)\n",
            "EPOCH: 16\n",
            "Train set: Average loss: 0.0033, Accuracy: 44203/50000 (88.41%)\n",
            "Test set: Average loss: 0.0038, Accuracy: 8733/10000 (87.33%)\n",
            "EPOCH: 17\n",
            "Train set: Average loss: 0.0032, Accuracy: 44354/50000 (88.71%)\n",
            "Test set: Average loss: 0.0039, Accuracy: 8711/10000 (87.11%)\n",
            "EPOCH: 18\n",
            "Train set: Average loss: 0.0030, Accuracy: 44733/50000 (89.47%)\n",
            "Test set: Average loss: 0.0036, Accuracy: 8783/10000 (87.83%)\n",
            "EPOCH: 19\n",
            "Train set: Average loss: 0.0029, Accuracy: 44959/50000 (89.92%)\n",
            "Test set: Average loss: 0.0036, Accuracy: 8808/10000 (88.08%)\n",
            "EPOCH: 20\n",
            "Train set: Average loss: 0.0028, Accuracy: 45197/50000 (90.39%)\n",
            "Test set: Average loss: 0.0037, Accuracy: 8786/10000 (87.86%)\n",
            "Saving the model for at /content/gdrive/MyDrive/EVA5/S8AssignmentSolution/cifar_10_epoch_20.pth.\n"
          ],
          "name": "stdout"
        }
      ]
    },
    {
      "cell_type": "code",
      "metadata": {
        "id": "eNUnxfESW7P_"
      },
      "source": [
        "import json\r\n",
        "\r\n",
        "with open(f\"{root_path}/train_test_metrics.json\", \"w\") as outfile:  \r\n",
        "    json.dump(train_test_history, outfile)"
      ],
      "execution_count": null,
      "outputs": []
    },
    {
      "cell_type": "code",
      "metadata": {
        "id": "VJUfouhAIXmD",
        "colab": {
          "base_uri": "https://localhost:8080/",
          "height": 172
        },
        "outputId": "ca7a8d0f-6d86-47e5-c618-2c3499ba3a4d"
      },
      "source": [
        "dataiter = iter(test_loader)\r\n",
        "images, labels = dataiter.next()\r\n",
        "# images, labels = images.to(device), labels.to(device)\r\n",
        "\r\n",
        "# print images\r\n",
        "imshow(torchvision.utils.make_grid(images[0:4]))\r\n",
        "print('GroundTruth: ', ' '.join('%5s' % classes[labels[j]] for j in range(4)))"
      ],
      "execution_count": null,
      "outputs": [
        {
          "output_type": "stream",
          "text": [
            "Clipping input data to the valid range for imshow with RGB data ([0..1] for floats or [0..255] for integers).\n"
          ],
          "name": "stderr"
        },
        {
          "output_type": "stream",
          "text": [
            "GroundTruth:    cat  ship  ship plane\n"
          ],
          "name": "stdout"
        },
        {
          "output_type": "display_data",
          "data": {
            "image/png": "[encoded data removed]",
            "text/plain": [
              "<Figure size 432x288 with 1 Axes>"
            ]
          },
          "metadata": {
            "tags": [],
            "needs_background": "light"
          }
        }
      ]
    },
    {
      "cell_type": "code",
      "metadata": {
        "id": "99i-uEYhaVWo",
        "colab": {
          "base_uri": "https://localhost:8080/",
          "height": 295
        },
        "outputId": "9a4ff36f-4578-4d93-ec12-fc56d7a2fa6f"
      },
      "source": [
        "fig, ax = plt.subplots()\r\n",
        "ax.plot(train_test_history[20][\"train_accuracies\"],label=\"train_accuracies\")\r\n",
        "ax.plot(train_test_history[20][\"test_accuracies\"],label=\"test_accuracies\")\r\n",
        "leg = ax.legend()\r\n",
        "  \r\n",
        "plt.title('Train-Validation Accuracies')\r\n",
        "plt.xlabel(\"Epochs\")\r\n",
        "plt.ylabel(\"Accuracy\")\r\n",
        "plt.savefig(f'{root_path}/accuracy_plot.png')"
      ],
      "execution_count": null,
      "outputs": [
        {
          "output_type": "display_data",
          "data": {
            "image/png": "[encoded data removed]",
            "text/plain": [
              "<Figure size 432x288 with 1 Axes>"
            ]
          },
          "metadata": {
            "tags": [],
            "needs_background": "light"
          }
        }
      ]
    },
    {
      "cell_type": "markdown",
      "metadata": {
        "id": "2RG8TTCxR-Yy"
      },
      "source": [
        "## Measuring classwise accuracies"
      ]
    },
    {
      "cell_type": "code",
      "metadata": {
        "colab": {
          "base_uri": "https://localhost:8080/"
        },
        "id": "EaqZwB4QTMq7",
        "outputId": "4cbd30b2-08a7-4b97-9e16-d9e0e7140488"
      },
      "source": [
        "model = ResNet18().to(device)\r\n",
        "model.load_state_dict(torch.load(\"/content/gdrive/MyDrive/EVA5/S8AssignmentSolution/cifar_10_epoch_20.pth\"))\r\n",
        "model.eval()"
      ],
      "execution_count": 6,
      "outputs": [
        {
          "output_type": "execute_result",
          "data": {
            "text/plain": [
              "ResNet(\n",
              "  (conv1): Conv2d(3, 64, kernel_size=(3, 3), stride=(1, 1), padding=(1, 1), bias=False)\n",
              "  (bn1): BatchNorm2d(64, eps=1e-05, momentum=0.1, affine=True, track_running_stats=True)\n",
              "  (layer1): Sequential(\n",
              "    (0): BasicBlock(\n",
              "      (conv1): Conv2d(64, 64, kernel_size=(3, 3), stride=(1, 1), padding=(1, 1), bias=False)\n",
              "      (bn1): BatchNorm2d(64, eps=1e-05, momentum=0.1, affine=True, track_running_stats=True)\n",
              "      (conv2): Conv2d(64, 64, kernel_size=(3, 3), stride=(1, 1), padding=(1, 1), bias=False)\n",
              "      (bn2): BatchNorm2d(64, eps=1e-05, momentum=0.1, affine=True, track_running_stats=True)\n",
              "      (shortcut): Sequential()\n",
              "    )\n",
              "    (1): BasicBlock(\n",
              "      (conv1): Conv2d(64, 64, kernel_size=(3, 3), stride=(1, 1), padding=(1, 1), bias=False)\n",
              "      (bn1): BatchNorm2d(64, eps=1e-05, momentum=0.1, affine=True, track_running_stats=True)\n",
              "      (conv2): Conv2d(64, 64, kernel_size=(3, 3), stride=(1, 1), padding=(1, 1), bias=False)\n",
              "      (bn2): BatchNorm2d(64, eps=1e-05, momentum=0.1, affine=True, track_running_stats=True)\n",
              "      (shortcut): Sequential()\n",
              "    )\n",
              "  )\n",
              "  (layer2): Sequential(\n",
              "    (0): BasicBlock(\n",
              "      (conv1): Conv2d(64, 128, kernel_size=(3, 3), stride=(2, 2), padding=(1, 1), bias=False)\n",
              "      (bn1): BatchNorm2d(128, eps=1e-05, momentum=0.1, affine=True, track_running_stats=True)\n",
              "      (conv2): Conv2d(128, 128, kernel_size=(3, 3), stride=(1, 1), padding=(1, 1), bias=False)\n",
              "      (bn2): BatchNorm2d(128, eps=1e-05, momentum=0.1, affine=True, track_running_stats=True)\n",
              "      (shortcut): Sequential(\n",
              "        (0): Conv2d(64, 128, kernel_size=(1, 1), stride=(2, 2), bias=False)\n",
              "        (1): BatchNorm2d(128, eps=1e-05, momentum=0.1, affine=True, track_running_stats=True)\n",
              "      )\n",
              "    )\n",
              "    (1): BasicBlock(\n",
              "      (conv1): Conv2d(128, 128, kernel_size=(3, 3), stride=(1, 1), padding=(1, 1), bias=False)\n",
              "      (bn1): BatchNorm2d(128, eps=1e-05, momentum=0.1, affine=True, track_running_stats=True)\n",
              "      (conv2): Conv2d(128, 128, kernel_size=(3, 3), stride=(1, 1), padding=(1, 1), bias=False)\n",
              "      (bn2): BatchNorm2d(128, eps=1e-05, momentum=0.1, affine=True, track_running_stats=True)\n",
              "      (shortcut): Sequential()\n",
              "    )\n",
              "  )\n",
              "  (layer3): Sequential(\n",
              "    (0): BasicBlock(\n",
              "      (conv1): Conv2d(128, 256, kernel_size=(3, 3), stride=(2, 2), padding=(1, 1), bias=False)\n",
              "      (bn1): BatchNorm2d(256, eps=1e-05, momentum=0.1, affine=True, track_running_stats=True)\n",
              "      (conv2): Conv2d(256, 256, kernel_size=(3, 3), stride=(1, 1), padding=(1, 1), bias=False)\n",
              "      (bn2): BatchNorm2d(256, eps=1e-05, momentum=0.1, affine=True, track_running_stats=True)\n",
              "      (shortcut): Sequential(\n",
              "        (0): Conv2d(128, 256, kernel_size=(1, 1), stride=(2, 2), bias=False)\n",
              "        (1): BatchNorm2d(256, eps=1e-05, momentum=0.1, affine=True, track_running_stats=True)\n",
              "      )\n",
              "    )\n",
              "    (1): BasicBlock(\n",
              "      (conv1): Conv2d(256, 256, kernel_size=(3, 3), stride=(1, 1), padding=(1, 1), bias=False)\n",
              "      (bn1): BatchNorm2d(256, eps=1e-05, momentum=0.1, affine=True, track_running_stats=True)\n",
              "      (conv2): Conv2d(256, 256, kernel_size=(3, 3), stride=(1, 1), padding=(1, 1), bias=False)\n",
              "      (bn2): BatchNorm2d(256, eps=1e-05, momentum=0.1, affine=True, track_running_stats=True)\n",
              "      (shortcut): Sequential()\n",
              "    )\n",
              "  )\n",
              "  (layer4): Sequential(\n",
              "    (0): BasicBlock(\n",
              "      (conv1): Conv2d(256, 512, kernel_size=(3, 3), stride=(2, 2), padding=(1, 1), bias=False)\n",
              "      (bn1): BatchNorm2d(512, eps=1e-05, momentum=0.1, affine=True, track_running_stats=True)\n",
              "      (conv2): Conv2d(512, 512, kernel_size=(3, 3), stride=(1, 1), padding=(1, 1), bias=False)\n",
              "      (bn2): BatchNorm2d(512, eps=1e-05, momentum=0.1, affine=True, track_running_stats=True)\n",
              "      (shortcut): Sequential(\n",
              "        (0): Conv2d(256, 512, kernel_size=(1, 1), stride=(2, 2), bias=False)\n",
              "        (1): BatchNorm2d(512, eps=1e-05, momentum=0.1, affine=True, track_running_stats=True)\n",
              "      )\n",
              "    )\n",
              "    (1): BasicBlock(\n",
              "      (conv1): Conv2d(512, 512, kernel_size=(3, 3), stride=(1, 1), padding=(1, 1), bias=False)\n",
              "      (bn1): BatchNorm2d(512, eps=1e-05, momentum=0.1, affine=True, track_running_stats=True)\n",
              "      (conv2): Conv2d(512, 512, kernel_size=(3, 3), stride=(1, 1), padding=(1, 1), bias=False)\n",
              "      (bn2): BatchNorm2d(512, eps=1e-05, momentum=0.1, affine=True, track_running_stats=True)\n",
              "      (shortcut): Sequential()\n",
              "    )\n",
              "  )\n",
              "  (linear): Linear(in_features=512, out_features=10, bias=True)\n",
              ")"
            ]
          },
          "metadata": {
            "tags": []
          },
          "execution_count": 6
        }
      ]
    },
    {
      "cell_type": "code",
      "metadata": {
        "colab": {
          "base_uri": "https://localhost:8080/"
        },
        "id": "go-_oLSMR9VN",
        "outputId": "625e3c71-b065-4ad3-d6d0-c0037e08fd49"
      },
      "source": [
        "class_correct = list(0. for i in range(10))\r\n",
        "class_total = list(0. for i in range(10))\r\n",
        "with torch.no_grad():\r\n",
        "    for data in test_loader:\r\n",
        "        images, labels = data\r\n",
        "        images, labels = images.to(device), labels.to(device)\r\n",
        "        outputs = model(images)\r\n",
        "        _, predicted = torch.max(outputs, 1)\r\n",
        "        c = (predicted == labels).squeeze()\r\n",
        "        for i in range(4):\r\n",
        "            label = labels[i]\r\n",
        "            class_correct[label] += c[i].item()\r\n",
        "            class_total[label] += 1\r\n",
        "\r\n",
        "\r\n",
        "for i in range(10):\r\n",
        "    print('Accuracy of %5s : %2d %%' % (\r\n",
        "        classes[i], 100 * class_correct[i] / class_total[i]))"
      ],
      "execution_count": 10,
      "outputs": [
        {
          "output_type": "stream",
          "text": [
            "Accuracy of plane : 95 %\n",
            "Accuracy of   car : 100 %\n",
            "Accuracy of  bird : 60 %\n",
            "Accuracy of   cat : 83 %\n",
            "Accuracy of  deer : 87 %\n",
            "Accuracy of   dog : 68 %\n",
            "Accuracy of  frog : 94 %\n",
            "Accuracy of horse : 93 %\n",
            "Accuracy of  ship : 91 %\n",
            "Accuracy of truck : 96 %\n"
          ],
          "name": "stdout"
        }
      ]
    }
  ]
}